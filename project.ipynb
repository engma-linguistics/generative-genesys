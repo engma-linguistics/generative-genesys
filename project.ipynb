{
 "cells": [
  {
   "cell_type": "code",
   "execution_count": 1,
   "metadata": {},
   "outputs": [],
   "source": [
    "\n",
    "import json\n",
    "from src.base_creature_builder import creature_template_builder\n",
    "from src.validator import validate_creature, finalization\n",
    "from src.weapons_builder import weapon_template_builder\n",
    "from src.utils import fill_template_with_openai, generate_id, upload_new_character, get_character, put_character, get_bearer_token\n",
    "from src.base_creature_builder import CREATURE_TEMPLATE_DICT\n",
    "from src.validator import validate_weapon\n",
    "    "
   ]
  },
  {
   "cell_type": "code",
   "execution_count": 2,
   "metadata": {},
   "outputs": [],
   "source": [
    "final_creature_dict = CREATURE_TEMPLATE_DICT\n",
    "bearer_token = get_bearer_token()"
   ]
  },
  {
   "cell_type": "code",
   "execution_count": null,
   "metadata": {},
   "outputs": [],
   "source": [
    "# function still TBD\n",
    "complete_builder(\n",
    "    creature_description=\"A goblin that throws pies at its enemies, it keeps the pies in a satchel at its side.\",\n",
    "    creature_name=\"Pie Goblin\",\n",
    "    creature_type=\"Minion\",\n",
    "    setting_description=\"A generic D&D-like fantasty setting.\",\n",
    "    skills=[\"Stealth\", \"Ranged (Light)\"],\n",
    "    allow_other_skills=True,\n",
    "    combat_cr=2,\n",
    "    social_cr=1,\n",
    "    agility=3,\n",
    "    cunning=3,\n",
    "    presence=1\n",
    ")\n",
    "# calls creature_template_builder, weapon_template_builder, and finalization"
   ]
  },
  {
   "cell_type": "code",
   "execution_count": 3,
   "metadata": {},
   "outputs": [
    {
     "name": "stdout",
     "output_type": "stream",
     "text": [
      "passes all validation steps\n"
     ]
    }
   ],
   "source": [
    "creature_description = \"A goblin that throws pies at its enemies, it keeps the pies in a satchel at its side.\"\n",
    "setting_description = \"A generic D&D-like fantasty setting.\"\n",
    "creature_type = \"Minion\"\n",
    "creature_builder_string = creature_template_builder(\n",
    "    creature_description=creature_description,\n",
    "    creature_name=\"Pie Goblin\",\n",
    "    creature_type=creature_type,\n",
    "    setting_description=setting_description,\n",
    "    skills=[\"Stealth\", \"Ranged (Light)\"],\n",
    "    allow_other_skills=True,\n",
    "    combat_cr=2,\n",
    "    social_cr=1,\n",
    "    agility=3,\n",
    "    cunning=3,\n",
    "    presence=1)\n",
    "generated_character_data = fill_template_with_openai(creature_builder_string)\n",
    "generated_character_data_as_dict = validate_creature(generated_character_data)\n",
    "generated_character_data_as_dict['characterDescription'] = creature_description\n",
    "final_creature_dict[\"characters\"] = [generated_character_data_as_dict]"
   ]
  },
  {
   "cell_type": "code",
   "execution_count": 4,
   "metadata": {},
   "outputs": [],
   "source": [
    "\n",
    "weapon_builder_string = weapon_template_builder(\n",
    "    creature_name=generated_character_data_as_dict['name'],\n",
    "    creature_description=creature_description, \n",
    "    creature_type=creature_type, \n",
    "    setting_description=setting_description, \n",
    "    creature_skills=str(list(generated_character_data_as_dict['masterSkills'].keys())), \n",
    "    combat_cr=generated_character_data_as_dict['combatCR'],\n",
    "    number_of_weapons=3)\n",
    "\n",
    "generated_weapon_data = fill_template_with_openai(weapon_builder_string)\n"
   ]
  },
  {
   "cell_type": "code",
   "execution_count": 5,
   "metadata": {},
   "outputs": [
    {
     "name": "stdout",
     "output_type": "stream",
     "text": [
      "passes all validation steps\n",
      "passes all validation steps\n",
      "passes all validation steps\n"
     ]
    }
   ],
   "source": [
    "generated_weapon_data_as_dict = validate_weapon(generated_weapon_data)\n",
    "final_creature_dict[\"customWeapons\"] = generated_weapon_data_as_dict"
   ]
  },
  {
   "cell_type": "code",
   "execution_count": 6,
   "metadata": {},
   "outputs": [],
   "source": [
    "final_creature_dict[\"characters\"][0][\"equipmentWeapons\"] = {}\n",
    "for weapon in generated_weapon_data_as_dict:\n",
    "    new_name = weapon['name'].replace(' ', '')  # Remove spaces\n",
    "    new_name = new_name[0].lower() + new_name[1:]  # Lowercase the first letter\n",
    "    final_creature_dict[\"characters\"][0][\"equipmentWeapons\"][weapon['id']] = {\"craftsmanship\": \"\",\n",
    "                    \"carried\": True,\n",
    "                    \"id\": new_name,\n",
    "                    \"equipped\": True}"
   ]
  },
  {
   "cell_type": "code",
   "execution_count": 7,
   "metadata": {},
   "outputs": [
    {
     "data": {
      "text/plain": [
       "{'customArchetypes': [{'name': 'NPC Archetype',\n",
       "   'Brawn': 1,\n",
       "   'Agility': 1,\n",
       "   'Intellect': 1,\n",
       "   'Cunning': 1,\n",
       "   'Willpower': 1,\n",
       "   'Presence': 1,\n",
       "   'woundThreshold': 5,\n",
       "   'strainThreshold': 1,\n",
       "   'experience': '1',\n",
       "   'description': '',\n",
       "   'setting': ['All'],\n",
       "   'skills': {},\n",
       "   'talents': [],\n",
       "   'id': 'ByO058vfgGB33EOrabeE'}],\n",
       " 'customCareers': [{'name': 'NPC Career',\n",
       "   'description': '',\n",
       "   'setting': ['All'],\n",
       "   'skills': [],\n",
       "   'id': '9VWOCKS9chsyHcBjS1U3'}],\n",
       " 'characters': [{'name': 'Pie Goblin',\n",
       "   'careerSkillsRank': ['Stealth', 'RangedLight', 'Athletics', 'Deception'],\n",
       "   'masterSkills': {'Stealth': {'careerRank': 2},\n",
       "    'Deception': {'careerRank': 1},\n",
       "    'RangedLight': {'careerRank': 2}},\n",
       "   'creatureType': 'Minion',\n",
       "   'adversaryLevel': 0,\n",
       "   'minionCount': 3,\n",
       "   'creationCharacteristics': {'Brawn': 1,\n",
       "    'Agility': 2,\n",
       "    'Intellect': 1,\n",
       "    'Cunning': 2,\n",
       "    'Willpower': 0,\n",
       "    'Presence': 0},\n",
       "   'combatCR': 2,\n",
       "   'socialCR': 1,\n",
       "   'generalCR': 2,\n",
       "   'woundThreshold': 5,\n",
       "   'strainThreshold': 0,\n",
       "   'soak': 2,\n",
       "   'defenseMelee': 1,\n",
       "   'defenseRanged': 1,\n",
       "   'archetype': 'Npc',\n",
       "   'career': 'NpcCareer',\n",
       "   'theme': 'ROT',\n",
       "   'characterDescription': 'A goblin that throws pies at its enemies, it keeps the pies in a satchel at its side.',\n",
       "   'equipmentWeapons': {'FVLgDp7K0yxZlj7DYmnA': {'craftsmanship': '',\n",
       "     'carried': True,\n",
       "     'id': 'pieofDistraction',\n",
       "     'equipped': True},\n",
       "    'XdeM1Hoi9qjiUAw4j1Dh': {'craftsmanship': '',\n",
       "     'carried': True,\n",
       "     'id': 'pieofSlumber',\n",
       "     'equipped': True},\n",
       "    'anYARQgbCgmiuF5DlXnK': {'craftsmanship': '',\n",
       "     'carried': True,\n",
       "     'id': 'pieofDoom',\n",
       "     'equipped': True}}}],\n",
       " 'customWeapons': [{'name': 'Pie of Distraction',\n",
       "   'encumbrance': 1,\n",
       "   'setting': ['All'],\n",
       "   'damage': '2',\n",
       "   'range': 'Short',\n",
       "   'skill': 'RangedLight',\n",
       "   'critical': 6,\n",
       "   'modifier': {},\n",
       "   'qualities': {'Disorient': '2', 'Limited Ammo': '3', 'Stun Damage': ''},\n",
       "   'id': 'FVLgDp7K0yxZlj7DYmnA'},\n",
       "  {'name': 'Pie of Slumber',\n",
       "   'encumbrance': 2,\n",
       "   'setting': ['All'],\n",
       "   'damage': '3',\n",
       "   'range': 'Medium',\n",
       "   'skill': 'RangedLight',\n",
       "   'critical': 4,\n",
       "   'modifier': {},\n",
       "   'qualities': {'Concussive': '2', 'Limited Ammo': '2', 'Stun': '2'},\n",
       "   'id': 'XdeM1Hoi9qjiUAw4j1Dh'},\n",
       "  {'name': 'Pie of Doom',\n",
       "   'encumbrance': 3,\n",
       "   'setting': ['All'],\n",
       "   'damage': '5',\n",
       "   'range': 'Medium',\n",
       "   'skill': 'RangedLight',\n",
       "   'critical': 2,\n",
       "   'modifier': {},\n",
       "   'qualities': {'Blast': '3', 'Limited Ammo': '1', 'Pierce': '2'},\n",
       "   'id': 'anYARQgbCgmiuF5DlXnK'}]}"
      ]
     },
     "execution_count": 7,
     "metadata": {},
     "output_type": "execute_result"
    }
   ],
   "source": [
    "final_creature_dict"
   ]
  },
  {
   "cell_type": "code",
   "execution_count": 8,
   "metadata": {},
   "outputs": [],
   "source": [
    "#final_data = finalization(generated_character_data_as_dict, None)\n",
    "with open(\"creature.json\", \"w\") as f:\n",
    "    f.write(json.dumps(final_creature_dict))\n",
    "f.close()"
   ]
  },
  {
   "cell_type": "code",
   "execution_count": null,
   "metadata": {},
   "outputs": [],
   "source": []
  },
  {
   "cell_type": "code",
   "execution_count": 9,
   "metadata": {},
   "outputs": [
    {
     "name": "stdout",
     "output_type": "stream",
     "text": [
      "[{'name': 'Pie Goblin', 'id': '6491e35e18fddf5357135bf8'}]\n"
     ]
    }
   ],
   "source": [
    "import requests\n",
    "session = requests.Session()\n",
    "def upload_new_character(bearer_token, creature_json_path=\"creature.json\"):\n",
    "    url = \"https://api.rpgsessions.com/import/emporium\"\n",
    "    headers = {\n",
    "        \"Authorization\": \"Bearer {bearer_token}\".format(bearer_token=bearer_token),\n",
    "    }\n",
    "\n",
    "    # Open the JSON file in binary mode\n",
    "    with open(creature_json_path, 'rb') as f:\n",
    "        # Create a dictionary that will be sent as the files parameter\n",
    "        files = {'file': (creature_json_path, f)}\n",
    "\n",
    "        # Make the request\n",
    "        response = session.post(url, headers=headers, files=files)\n",
    "\n",
    "    print(response.json())\n",
    "    character_id = response.json()[0]['id']\n",
    "    return character_id\n",
    "\n",
    "character_id = upload_new_character(bearer_token, creature_json_path=\"creature.json\")"
   ]
  },
  {
   "cell_type": "code",
   "execution_count": 11,
   "metadata": {},
   "outputs": [],
   "source": [
    "\n",
    "\n",
    "data = get_character(character_id, bearer_token)\n",
    "#print(data)"
   ]
  },
  {
   "cell_type": "code",
   "execution_count": 12,
   "metadata": {},
   "outputs": [],
   "source": [
    "creature_type = generated_character_data_as_dict[\"creatureType\"]\n",
    "soak = generated_character_data_as_dict[\"soak\"]\n",
    "wounds_threshold = generated_character_data_as_dict[\"woundThreshold\"]\n",
    "strain_threshold = generated_character_data_as_dict[\"strainThreshold\"]\n",
    "defense_melee = generated_character_data_as_dict[\"defenseMelee\"]\n",
    "defense_ranged = generated_character_data_as_dict[\"defenseRanged\"]\n",
    "minion_count = generated_character_data_as_dict[\"minionCount\"]-1\n",
    "adversary_level = generated_character_data_as_dict[\"adversaryLevel\"]\n",
    "combat_cr = generated_character_data_as_dict[\"combatCR\"]\n",
    "social_cr = generated_character_data_as_dict[\"socialCR\"]\n",
    "general_cr = generated_character_data_as_dict[\"generalCR\"]"
   ]
  },
  {
   "cell_type": "code",
   "execution_count": 13,
   "metadata": {},
   "outputs": [],
   "source": [
    "data[\"characterType\"] = \"[character type] {creature_type}\".format(\n",
    "    creature_type=creature_type.lower()\n",
    ")\n",
    "\n",
    "data[\"configuration\"] = {\n",
    "    \"diceTheme\": \"[dice theme] genesys\",\n",
    "    \"gameTheme\": \"[game theme] genesys terrinoth\",\n",
    "    \"ndsCharacterType\": \"[nds character type] {character_type}\".format(\n",
    "        character_type=creature_type.lower()\n",
    "    ),\n",
    "    \"talentsDisplayType\": \"[nds character talent display type] list\",\n",
    "    \"talentsSignatureAbilitiesEnabled\": False,\n",
    "    \"forcePowersDisplayType\": \"[nds character talent display type] list group\",\n",
    "    \"dutyEnabled\": False,\n",
    "    \"forceEnabled\": False,\n",
    "    \"forceDiceEnabled\": False,\n",
    "    \"moralityEnabled\": False,\n",
    "    \"obligationEnabled\": False,\n",
    "    \"superCharacteristicsEnabled\": False,\n",
    "    \"heroicAbilitiesEnabled\": False,\n",
    "    \"aemberEnabled\": False,\n",
    "    \"favorsEnabled\": False,\n",
    "    \"agendasEnabled\": False,\n",
    "    \"automations\": False,\n",
    "}\n",
    "data[\"attributes\"] = [\n",
    "    {\"value\": soak, \"type\": \"[nds character attribute] soak\"},\n",
    "    {\"value\": 0, \"type\": \"[nds character attribute] wounds current\"},\n",
    "    {\"value\": wounds_threshold, \"type\": \"[nds character attribute] wounds threshold\"},\n",
    "    {\"value\": 0, \"type\": \"[nds character attribute] strain current\"},\n",
    "    {\"value\": strain_threshold, \"type\": \"[nds character attribute] strain threshold\"},\n",
    "    {\"value\": defense_ranged, \"type\": \"[nds character attribute] defense ranged\"},\n",
    "    {\"value\": defense_melee, \"type\": \"[nds character attribute] defense melee\"},\n",
    "    {\"value\": 0, \"type\": \"[nds character attribute] available xp\"},\n",
    "    {\"value\": 0, \"type\": \"[nds character attribute] total xp\"},\n",
    "    {\"value\": 0, \"type\": \"[nds character attribute] money\"},\n",
    "    {\"value\": 0, \"type\": \"[nds character attribute] encumbrance current\"},\n",
    "    {\"value\": 5, \"type\": \"[nds character attribute] encumbrance threshold\"},\n",
    "    {\"value\": 0, \"type\": \"[nds character attribute] force rating committed\"},\n",
    "    {\"value\": minion_count, \"type\": \"[nds character attribute] current minion count\"},\n",
    "    {\"value\": minion_count, \"type\": \"[nds character attribute] character count\"},\n",
    "    {\"value\": adversary_level, \"type\": \"[nds character attribute] adversary level\"},\n",
    "    {\"value\": combat_cr, \"type\": \"[nds character attribute] combat power level\"},\n",
    "    {\"value\": social_cr, \"type\": \"[nds character attribute] social power level\"},\n",
    "    {\"value\": general_cr, \"type\": \"[nds character attribute] general power level\"},\n",
    "    {\"value\": 0, \"type\": \"[nds character attribute] available aember\"},\n",
    "    {\"value\": 0, \"type\": \"[nds character attribute] total aember\"},\n",
    "]"
   ]
  },
  {
   "cell_type": "code",
   "execution_count": 14,
   "metadata": {},
   "outputs": [
    {
     "data": {
      "text/plain": [
       "<Response [200]>"
      ]
     },
     "execution_count": 14,
     "metadata": {},
     "output_type": "execute_result"
    }
   ],
   "source": [
    "from src.utils import put_character\n",
    "put_character(character_id, bearer_token, data)"
   ]
  },
  {
   "cell_type": "code",
   "execution_count": null,
   "metadata": {},
   "outputs": [],
   "source": [
    "# TODO: \n",
    "# set what skills I want in the setting and then remove from the list those I don't want\n",
    "# custom skills made\n",
    "# abilities still need to be added\n",
    "# (custom) gear and equipped equiment too\n"
   ]
  },
  {
   "cell_type": "code",
   "execution_count": 1,
   "metadata": {},
   "outputs": [
    {
     "name": "stdout",
     "output_type": "stream",
     "text": [
      "Getting bearer token\n",
      "Building creature template\n",
      "Filling character template with OpenAI, expect this to take about 30 seconds.\n",
      "Validating character data\n",
      "passes all creature validation steps\n",
      "Building weapon template\n",
      "Filling weapon template with OpenAI, expect this to take about 30 seconds.\n",
      "Validating weapon data\n",
      "passes all weapon validation steps\n",
      "passes all weapon validation steps\n",
      "passes all weapon validation steps\n",
      "Adding weapons to character\n",
      "Writing character to file\n",
      "Uploading character to RPGSessions\n",
      "[{'name': 'Undeadicorn', 'id': '6491ea554fbaea0966c7e708'}]\n",
      "Getting character from RPGSessions to edit raw data\n",
      "Editing character data\n",
      "Re-uploading character data to RPGSessions, overwriting existing character we just made\n",
      "Done!\n"
     ]
    }
   ],
   "source": [
    "from src.main import complete_builder\n",
    "\n",
    "complete_builder(\n",
    "    creature_description=\"An undead unicorn.\",\n",
    "    creature_name=\"Undeadicorn\",\n",
    "    creature_type=\"Nemesis\",\n",
    "    setting_description=\"A generic fantasy setting with magic and monsters\",\n",
    "    setting_specific_skills=[],\n",
    "    setting_removed_skils=[],\n",
    "    skills=[\"Melee\"],\n",
    "    allow_other_skills=True,\n",
    "    combat_cr=10,\n",
    "    social_cr=1,\n",
    "    general_cr=-1,\n",
    "    brawn=-1,\n",
    "    agility=-1,\n",
    "    intellect=-1,\n",
    "    cunning=-1,\n",
    "    willpower=-1,\n",
    "    presence=-1,\n",
    "    number_of_weapons=3,\n",
    ")"
   ]
  },
  {
   "cell_type": "code",
   "execution_count": null,
   "metadata": {},
   "outputs": [],
   "source": []
  }
 ],
 "metadata": {
  "kernelspec": {
   "display_name": "rpgsessions-gpt4-0WTzwOVP-py3.8",
   "language": "python",
   "name": "python3"
  },
  "language_info": {
   "codemirror_mode": {
    "name": "ipython",
    "version": 3
   },
   "file_extension": ".py",
   "mimetype": "text/x-python",
   "name": "python",
   "nbconvert_exporter": "python",
   "pygments_lexer": "ipython3",
   "version": "3.8.16"
  },
  "orig_nbformat": 4
 },
 "nbformat": 4,
 "nbformat_minor": 2
}
