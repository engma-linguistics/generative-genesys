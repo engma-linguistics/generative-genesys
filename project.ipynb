{
 "cells": [
  {
   "cell_type": "code",
   "execution_count": 1,
   "metadata": {},
   "outputs": [],
   "source": [
    "\n",
    "import json\n",
    "from src.base_creature_builder import creature_template_builder\n",
    "from src.validator import validate_creature, finalization\n",
    "from src.weapons_builder import weapon_template_builder\n",
    "from src.utils import fill_template_with_openai, generate_id\n",
    "from src.base_creature_builder import CREATURE_TEMPLATE_DICT\n",
    "from src.validator import validate_weapon\n",
    "    "
   ]
  },
  {
   "cell_type": "code",
   "execution_count": 2,
   "metadata": {},
   "outputs": [],
   "source": [
    "final_creature_dict = CREATURE_TEMPLATE_DICT"
   ]
  },
  {
   "cell_type": "code",
   "execution_count": 3,
   "metadata": {},
   "outputs": [
    {
     "name": "stdout",
     "output_type": "stream",
     "text": [
      "passes all validation steps\n",
      "{'customArchetypes': [{'name': 'NPC Archetype', 'Brawn': 1, 'Agility': 1, 'Intellect': 1, 'Cunning': 1, 'Willpower': 1, 'Presence': 1, 'woundThreshold': 5, 'strainThreshold': 1, 'experience': '1', 'description': '', 'setting': ['All'], 'skills': {}, 'talents': [], 'id': 'ByO058vfgGB33EOrabeE'}], 'customCareers': [{'name': 'NPC Career', 'description': '', 'setting': ['All'], 'skills': [], 'id': '9VWOCKS9chsyHcBjS1U3'}], 'characters': [{'name': 'Pie Goblin', 'careerSkillsRank': ['Stealth', 'RangedLight', 'Deception', 'Athletics'], 'masterSkills': {'Stealth': {'careerRank': 2}, 'Deception': {'careerRank': 1}, 'RangedLight': {'careerRank': 2}, 'Athletics': {'careerRank': 1}}, 'creationCharacteristics': {'Brawn': 1, 'Agility': 2, 'Intellect': 1, 'Cunning': 2, 'Willpower': 0, 'Presence': 0}, 'archetype': 'Npc', 'career': 'NpcCareer', 'theme': 'ROT'}]}\n"
     ]
    }
   ],
   "source": [
    "creature_builder_string = creature_template_builder(\n",
    "    creature_description=\"A goblin that throws pies at its enemies, it keeps the pies in a satchel at its side.\",\n",
    "    creature_name=\"Pie Goblin\",\n",
    "    creature_type=\"Minion\",\n",
    "    setting_description=\"A generic D&D-like fantasty setting.\",\n",
    "    skills=[\"Stealth\", \"Ranged (Light)\"],\n",
    "    allow_other_skills=True,\n",
    "    combat_cr=2,\n",
    "    social_cr=1,\n",
    "    agility=3,\n",
    "    cunning=3,\n",
    "    presence=1)\n",
    "generated_character_data = fill_template_with_openai(creature_builder_string)\n",
    "generated_character_data_as_dict = validate_creature(generated_character_data)\n",
    "final_creature_dict[\"characters\"] = [generated_character_data_as_dict]\n",
    "print(final_creature_dict)"
   ]
  },
  {
   "cell_type": "code",
   "execution_count": 5,
   "metadata": {},
   "outputs": [],
   "source": [
    "#final_data = finalization(generated_character_data_as_dict, None)"
   ]
  },
  {
   "cell_type": "code",
   "execution_count": 18,
   "metadata": {},
   "outputs": [],
   "source": [
    "#with open(\"creature.json\", \"w\") as f:\n",
    "#    f.write(json.dumps(final_data))\n",
    "#f.close()"
   ]
  },
  {
   "cell_type": "code",
   "execution_count": 4,
   "metadata": {},
   "outputs": [],
   "source": [
    "creature_description=\"A goblin that throws pies at its enemies, it keeps the pies in a satchel at its side.\"\n",
    "creature_name=\"Pie Goblin\"\n",
    "creature_type=\"Minion\"\n",
    "setting_description=\"A generic D&D-like fantasty setting.\"\n",
    "creature_skills=[\"Stealth\", \"Ranged (Light)\"],\n",
    "combat_cr=2\n",
    "weapon_builder_string = weapon_template_builder(creature_name, creature_description, creature_type, setting_description, creature_skills, combat_cr, number_of_weapons=2)\n",
    "\n",
    "generated_weapon_data = fill_template_with_openai(weapon_builder_string)\n"
   ]
  },
  {
   "cell_type": "code",
   "execution_count": 7,
   "metadata": {},
   "outputs": [
    {
     "name": "stdout",
     "output_type": "stream",
     "text": [
      "[\n",
      "    {\n",
      "        \"name\": \"Pie Satchel\",\n",
      "        \"encumbrance\": 2,\n",
      "        \"setting\": [\n",
      "            \"All\"\n",
      "        ],\n",
      "        \"damage\": \"2\",\n",
      "        \"range\": \"Short\",\n",
      "        \"skill\": \"RangedLight\",\n",
      "        \"critical\": 5,\n",
      "        \"modifier\": {},\n",
      "        \"qualities\": {\n",
      "            \"LimitedAmmo\": \"5\",\n",
      "            \"StunDamage\": \"\"\n",
      "        }\n",
      "    },\n",
      "    {\n",
      "        \"name\": \"Super Pie Launcher\",\n",
      "        \"encumbrance\": 4,\n",
      "        \"setting\": [\n",
      "            \"All\"\n",
      "        ],\n",
      "        \"damage\": \"4\",\n",
      "        \"range\": \"Medium\",\n",
      "        \"skill\": \"RangedLight\",\n",
      "        \"critical\": 4,\n",
      "        \"modifier\": {},\n",
      "        \"qualities\": {\n",
      "            \"LimitedAmmo\": \"3\",\n",
      "            \"Blast\": \"1\",\n",
      "            \"StunDamage\": \"\"\n",
      "        }\n",
      "    }\n",
      "]\n"
     ]
    }
   ],
   "source": [
    "print(generated_weapon_data)"
   ]
  },
  {
   "cell_type": "code",
   "execution_count": 10,
   "metadata": {},
   "outputs": [],
   "source": [
    "import ast\n",
    "from src.validator import REQUIRED_CHARACTER_FIELDS, REQUIRED_WEAPON_FIELDS\n",
    "def validate_weapon(generated_data):\n",
    "    try:\n",
    "        generated_data_as_dict = ast.literal_eval(generated_data)\n",
    "    except Exception as e:\n",
    "        print(\"cannot convert to dict\")  # TODO: ask OpenAI to fix this\n",
    "        raise e\n",
    "    passes_all_validation_steps = True\n",
    "    for each_weapon in generated_data_as_dict:\n",
    "        for k in each_weapon.keys():\n",
    "            if k not in REQUIRED_WEAPON_FIELDS:\n",
    "                print(\"warning, extraneous field: \", k)\n",
    "                passes_all_validation_steps = False\n",
    "            \n",
    "        for k in REQUIRED_WEAPON_FIELDS:\n",
    "            if k not in each_weapon.keys():\n",
    "                print(\"warning, missing field: \", k)\n",
    "                passes_all_validation_steps = False\n",
    "        if passes_all_validation_steps:\n",
    "            print(\"passes all validation steps\")\n",
    "        \n",
    "        each_weapon[\"id\"] = generate_id()\n",
    "    \n",
    "    return generated_data_as_dict"
   ]
  },
  {
   "cell_type": "code",
   "execution_count": 19,
   "metadata": {},
   "outputs": [
    {
     "data": {
      "text/plain": [
       "[{'name': 'Pie Satchel',\n",
       "  'encumbrance': 2,\n",
       "  'setting': ['All'],\n",
       "  'damage': '2',\n",
       "  'range': 'Short',\n",
       "  'skill': 'RangedLight',\n",
       "  'critical': 5,\n",
       "  'modifier': {},\n",
       "  'qualities': {'LimitedAmmo': '5', 'StunDamage': ''},\n",
       "  'id': 'BOgrmkaKLuQRwvhGBzIX'},\n",
       " {'name': 'Super Pie Launcher',\n",
       "  'encumbrance': 4,\n",
       "  'setting': ['All'],\n",
       "  'damage': '4',\n",
       "  'range': 'Medium',\n",
       "  'skill': 'RangedLight',\n",
       "  'critical': 4,\n",
       "  'modifier': {},\n",
       "  'qualities': {'LimitedAmmo': '3', 'Blast': '1', 'StunDamage': ''},\n",
       "  'id': '4o59gUuKajWhtWIsn0EH'}]"
      ]
     },
     "execution_count": 19,
     "metadata": {},
     "output_type": "execute_result"
    }
   ],
   "source": [
    "generated_weapon_data_as_dict"
   ]
  },
  {
   "cell_type": "code",
   "execution_count": 15,
   "metadata": {},
   "outputs": [
    {
     "name": "stdout",
     "output_type": "stream",
     "text": [
      "passes all validation steps\n",
      "passes all validation steps\n",
      "[{'name': 'Pie Satchel', 'encumbrance': 2, 'setting': ['All'], 'damage': '2', 'range': 'Short', 'skill': 'RangedLight', 'critical': 5, 'modifier': {}, 'qualities': {'LimitedAmmo': '5', 'StunDamage': ''}, 'id': 'BOgrmkaKLuQRwvhGBzIX'}, {'name': 'Super Pie Launcher', 'encumbrance': 4, 'setting': ['All'], 'damage': '4', 'range': 'Medium', 'skill': 'RangedLight', 'critical': 4, 'modifier': {}, 'qualities': {'LimitedAmmo': '3', 'Blast': '1', 'StunDamage': ''}, 'id': '4o59gUuKajWhtWIsn0EH'}]\n"
     ]
    }
   ],
   "source": [
    "\n",
    "generated_weapon_data_as_dict = validate_weapon(generated_weapon_data)\n",
    "print(generated_weapon_data_as_dict)\n",
    "final_creature_dict[\"customWeapons\"] = generated_weapon_data_as_dict"
   ]
  },
  {
   "cell_type": "code",
   "execution_count": 25,
   "metadata": {},
   "outputs": [],
   "source": [
    "import re\n",
    "final_creature_dict[\"characters\"][0][\"equipmentWeapons\"] = {}\n",
    "for weapon in generated_weapon_data_as_dict:\n",
    "    new_name = weapon['name'].replace(' ', '')  # Remove spaces\n",
    "    new_name = new_name[0].lower() + new_name[1:]  # Lowercase the first letter\n",
    "    final_creature_dict[\"characters\"][0][\"equipmentWeapons\"][weapon['id']] = {\"craftsmanship\": \"\",\n",
    "                    \"carried\": True,\n",
    "                    \"id\": new_name,\n",
    "                    \"equipped\": True}"
   ]
  },
  {
   "cell_type": "code",
   "execution_count": 26,
   "metadata": {},
   "outputs": [],
   "source": [
    "with open(\"creature.json\", \"w\") as f:\n",
    "   f.write(json.dumps(final_creature_dict))\n",
    "f.close()"
   ]
  },
  {
   "cell_type": "code",
   "execution_count": 61,
   "metadata": {},
   "outputs": [],
   "source": []
  },
  {
   "cell_type": "code",
   "execution_count": 82,
   "metadata": {},
   "outputs": [],
   "source": [
    "import requests\n",
    "\n",
    "# Create a session\n",
    "session = requests.Session()"
   ]
  },
  {
   "cell_type": "code",
   "execution_count": 84,
   "metadata": {},
   "outputs": [
    {
     "data": {
      "text/plain": [
       "{'message': 'No API key found in request',\n",
       " 'hint': 'No `apikey` request header or url param was found.'}"
      ]
     },
     "execution_count": 84,
     "metadata": {},
     "output_type": "execute_result"
    }
   ],
   "source": [
    "response.json()"
   ]
  },
  {
   "cell_type": "code",
   "execution_count": 85,
   "metadata": {},
   "outputs": [
    {
     "name": "stdout",
     "output_type": "stream",
     "text": [
      "[{'name': 'Pie Goblin', 'id': '6490ab644fbaea0966bfb429'}]\n"
     ]
    }
   ],
   "source": [
    "import requests\n",
    "\n",
    "url = \"https://api.rpgsessions.com/import/emporium\"\n",
    "payload = { \"data\": \"your data here\" }\n",
    "headers = {\n",
    "    \"Authorization\": \"Bearer your_token_here\",\n",
    "}\n",
    "\n",
    "# Open the JSON file in binary mode\n",
    "with open('creature.json', 'rb') as f:\n",
    "    # Create a dictionary that will be sent as the files parameter\n",
    "    files = {'file': ('creature.json', f)}\n",
    "\n",
    "    # Make the request\n",
    "    response = session.post(url, headers=headers, files=files)\n",
    "\n",
    "print(response.json())"
   ]
  },
  {
   "cell_type": "code",
   "execution_count": null,
   "metadata": {},
   "outputs": [],
   "source": []
  }
 ],
 "metadata": {
  "kernelspec": {
   "display_name": "rpgsessions-gpt4-0WTzwOVP-py3.8",
   "language": "python",
   "name": "python3"
  },
  "language_info": {
   "codemirror_mode": {
    "name": "ipython",
    "version": 3
   },
   "file_extension": ".py",
   "mimetype": "text/x-python",
   "name": "python",
   "nbconvert_exporter": "python",
   "pygments_lexer": "ipython3",
   "version": "3.8.16"
  },
  "orig_nbformat": 4
 },
 "nbformat": 4,
 "nbformat_minor": 2
}
